{
  "nbformat": 4,
  "nbformat_minor": 0,
  "metadata": {
    "colab": {
      "provenance": []
    },
    "kernelspec": {
      "name": "python3",
      "display_name": "Python 3"
    },
    "language_info": {
      "name": "python"
    }
  },
  "cells": [
    {
      "cell_type": "code",
      "execution_count": 5,
      "metadata": {
        "id": "OxyphyUORlSB"
      },
      "outputs": [],
      "source": [
        "import numpy as np\n",
        "import pandas as pd\n"
      ]
    },
    {
      "cell_type": "code",
      "source": [
        "datas=pd.read_csv('/content/car performance.csv')"
      ],
      "metadata": {
        "id": "rIrczJFgSb6g"
      },
      "execution_count": 7,
      "outputs": []
    },
    {
      "cell_type": "code",
      "source": [
        "datas.isnull().any()"
      ],
      "metadata": {
        "colab": {
          "base_uri": "https://localhost:8080/"
        },
        "id": "8RTNfUmvSf_K",
        "outputId": "ac7d0002-1900-4a3b-b7d6-c56931c27e3d"
      },
      "execution_count": 8,
      "outputs": [
        {
          "output_type": "execute_result",
          "data": {
            "text/plain": [
              "mpg             False\n",
              "cylinders       False\n",
              "displacement    False\n",
              "horsepower      False\n",
              "weight          False\n",
              "acceleration    False\n",
              "model year      False\n",
              "origin          False\n",
              "car name        False\n",
              "dtype: bool"
            ]
          },
          "metadata": {},
          "execution_count": 8
        }
      ]
    },
    {
      "cell_type": "code",
      "source": [
        "x=datas.iloc[:,1:8].values\n",
        "y=datas.iloc[:,0].values"
      ],
      "metadata": {
        "id": "MmASrzMHS9T0"
      },
      "execution_count": 9,
      "outputs": []
    },
    {
      "cell_type": "code",
      "source": [
        "from sklearn.model_selection import train_test_split\n",
        "x_train,x_test,y_train,y_test=train_test_split(x,y,test_size=0.2,random_state=0)"
      ],
      "metadata": {
        "id": "WrKDT-VXTe0a"
      },
      "execution_count": 10,
      "outputs": []
    },
    {
      "cell_type": "code",
      "source": [
        "from sklearn.preprocessing import StandardScaler\n",
        "sd=StandardScaler()\n",
        "x_train=sd.fit_transform(x_train)\n",
        "x_test=sd.fit_transform(x_test)\n",
        "print(x_train)"
      ],
      "metadata": {
        "colab": {
          "base_uri": "https://localhost:8080/"
        },
        "id": "y2g9WQdvUbF5",
        "outputId": "2a72c941-8f18-4a1e-f2cd-a0857a6caed9"
      },
      "execution_count": 19,
      "outputs": [
        {
          "output_type": "stream",
          "name": "stdout",
          "text": [
            "[[ 1.49526939  1.22961301  1.24359144 ... -0.79520768 -1.13752513\n",
            "  -0.73301171]\n",
            " [-0.85285735 -0.92367663 -1.16092059 ...  1.24411524 -1.41177304\n",
            "   0.5068698 ]\n",
            " [-0.85285735 -0.92367663 -0.68001818 ...  0.05760009  1.05645814\n",
            "   0.5068698 ]\n",
            " ...\n",
            " [-0.85285735 -1.206235   -1.45480539 ...  1.42950823 -0.86327722\n",
            "   0.5068698 ]\n",
            " [ 0.32120602  0.56706235 -0.09224857 ... -0.2390287  -1.41177304\n",
            "  -0.73301171]\n",
            " [-0.85285735 -0.99188037 -0.86703579 ...  0.31715028 -0.31478141\n",
            "   0.5068698 ]]\n"
          ]
        }
      ]
    }
  ]
}