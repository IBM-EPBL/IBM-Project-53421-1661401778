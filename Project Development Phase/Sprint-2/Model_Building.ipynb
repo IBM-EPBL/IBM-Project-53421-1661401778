{
  "nbformat": 4,
  "nbformat_minor": 0,
  "metadata": {
    "colab": {
      "provenance": []
    },
    "kernelspec": {
      "name": "python3",
      "display_name": "Python 3"
    },
    "language_info": {
      "name": "python"
    }
  },
  "cells": [
    {
      "cell_type": "code",
      "execution_count": null,
      "metadata": {
        "id": "OxyphyUORlSB"
      },
      "outputs": [],
      "source": [
        "import numpy as np\n",
        "import pandas as pd\n"
      ]
    },
    {
      "cell_type": "code",
      "source": [
        "datas=pd.read_csv('/content/car performance.csv')"
      ],
      "metadata": {
        "id": "rIrczJFgSb6g"
      },
      "execution_count": null,
      "outputs": []
    },
    {
      "cell_type": "code",
      "source": [
        "datas.isnull().any()"
      ],
      "metadata": {
        "colab": {
          "base_uri": "https://localhost:8080/"
        },
        "id": "8RTNfUmvSf_K",
        "outputId": "ac7d0002-1900-4a3b-b7d6-c56931c27e3d"
      },
      "execution_count": null,
      "outputs": [
        {
          "output_type": "execute_result",
          "data": {
            "text/plain": [
              "mpg             False\n",
              "cylinders       False\n",
              "displacement    False\n",
              "horsepower      False\n",
              "weight          False\n",
              "acceleration    False\n",
              "model year      False\n",
              "origin          False\n",
              "car name        False\n",
              "dtype: bool"
            ]
          },
          "metadata": {},
          "execution_count": 8
        }
      ]
    },
    {
      "cell_type": "code",
      "source": [
        "x=datas.iloc[:,1:8].values\n",
        "y=datas.iloc[:,0].values"
      ],
      "metadata": {
        "id": "MmASrzMHS9T0"
      },
      "execution_count": null,
      "outputs": []
    },
    {
      "cell_type": "code",
      "source": [
        "from sklearn.model_selection import train_test_split\n",
        "x_train,x_test,y_train,y_test=train_test_split(x,y,test_size=0.2,random_state=0)"
      ],
      "metadata": {
        "id": "WrKDT-VXTe0a"
      },
      "execution_count": null,
      "outputs": []
    },
    {
      "cell_type": "code",
      "source": [
        "from sklearn.preprocessing import StandardScaler\n",
        "sd=StandardScaler()\n",
        "x_train=sd.fit_transform(x_train)\n",
        "x_test=sd.fit_transform(x_test)\n",
        "print(x_train)"
      ],
      "metadata": {
        "colab": {
          "base_uri": "https://localhost:8080/"
        },
        "id": "y2g9WQdvUbF5",
        "outputId": "2a72c941-8f18-4a1e-f2cd-a0857a6caed9"
      },
      "execution_count": null,
      "outputs": [
        {
          "output_type": "stream",
          "name": "stdout",
          "text": [
            "[[ 1.49526939  1.22961301  1.24359144 ... -0.79520768 -1.13752513\n",
            "  -0.73301171]\n",
            " [-0.85285735 -0.92367663 -1.16092059 ...  1.24411524 -1.41177304\n",
            "   0.5068698 ]\n",
            " [-0.85285735 -0.92367663 -0.68001818 ...  0.05760009  1.05645814\n",
            "   0.5068698 ]\n",
            " ...\n",
            " [-0.85285735 -1.206235   -1.45480539 ...  1.42950823 -0.86327722\n",
            "   0.5068698 ]\n",
            " [ 0.32120602  0.56706235 -0.09224857 ... -0.2390287  -1.41177304\n",
            "  -0.73301171]\n",
            " [-0.85285735 -0.99188037 -0.86703579 ...  0.31715028 -0.31478141\n",
            "   0.5068698 ]]\n"
          ]
        }
      ]
    },
    {
      "cell_type": "code",
      "source": [
        "from sklearn.ensemble import RandomForestRegressor\n",
        "d=RandomForestRegressor (n_estimators=30,random_state=0)\n",
        "d.fit(x_train,y_train)"
      ],
      "metadata": {
        "colab": {
          "base_uri": "https://localhost:8080/"
        },
        "id": "9oYhErDwsA2x",
        "outputId": "605dd18f-14ce-4286-fdfc-adde7ed5bf27"
      },
      "execution_count": 20,
      "outputs": [
        {
          "output_type": "execute_result",
          "data": {
            "text/plain": [
              "RandomForestRegressor(n_estimators=30, random_state=0)"
            ]
          },
          "metadata": {},
          "execution_count": 20
        }
      ]
    },
    {
      "cell_type": "code",
      "source": [
        "y_pred=d.predict(x_test)\n",
        "print(y_pred)"
      ],
      "metadata": {
        "colab": {
          "base_uri": "https://localhost:8080/"
        },
        "id": "perScc1YsLcn",
        "outputId": "d38f8619-1223-41e0-aced-8ef80d8ba44e"
      },
      "execution_count": 22,
      "outputs": [
        {
          "output_type": "stream",
          "name": "stdout",
          "text": [
            "[14.38333333 24.25666667 14.21666667 20.56666667 18.47333333 30.21666667\n",
            " 34.63333333 21.15       16.30333333 25.76       36.60333333 36.27\n",
            " 19.53666667 27.32333333 16.54333333 32.99333333 28.32333333 27.49666667\n",
            " 17.03       35.82       16.47333333 23.54       23.16666667 20.7\n",
            " 33.69666667 26.45       33.79666667 30.37333333 31.93666667 16.57333333\n",
            " 20.26666667 32.99       19.79666667 34.08333333 20.85666667 25.02\n",
            " 19.65333333 17.14       34.78333333 12.76666667 13.73333333 15.2\n",
            " 28.32       32.76666667 28.74333333 22.68666667 20.54333333 16.50666667\n",
            " 23.38       29.88333333 34.31666667 26.5        17.63       27.78333333\n",
            " 15.96666667 12.96666667 18.86666667 26.91666667 31.95666667 15.68\n",
            " 20.81       25.97       19.84666667 21.6        13.46666667 15.33333333\n",
            " 14.2        18.90333333 24.72666667 14.21666667 34.87666667 13.25\n",
            " 22.96666667 18.77666667 23.83333333 32.16666667 28.17666667 31.23666667\n",
            " 31.94       14.35      ]\n"
          ]
        }
      ]
    },
    {
      "cell_type": "code",
      "source": [
        "from sklearn.metrics import r2_score\n",
        "accuracy= r2_score(y_test,y_pred)\n",
        "print(accuracy)"
      ],
      "metadata": {
        "colab": {
          "base_uri": "https://localhost:8080/"
        },
        "id": "VElhmKh2scvO",
        "outputId": "f15f3c63-6297-4966-c086-38647f3c7cce"
      },
      "execution_count": 27,
      "outputs": [
        {
          "output_type": "stream",
          "name": "stdout",
          "text": [
            "0.8914224071232417\n"
          ]
        }
      ]
    },
    {
      "cell_type": "code",
      "source": [
        "import pickle\n",
        "pickle.dump(d,open('regression.pkl','wb'))\n"
      ],
      "metadata": {
        "id": "uUWcZ6IwtuE8"
      },
      "execution_count": 30,
      "outputs": []
    },
    {
      "cell_type": "code",
      "source": [],
      "metadata": {
        "id": "qIY7Ts-7vke-"
      },
      "execution_count": null,
      "outputs": []
    }
  ]
}